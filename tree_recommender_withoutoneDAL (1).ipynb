{
 "cells": [
  {
   "cell_type": "code",
   "execution_count": 3,
   "metadata": {},
   "outputs": [],
   "source": [
    "import pandas as pd\n",
    "from sklearn.compose import ColumnTransformer\n",
    "from sklearn.preprocessing import OneHotEncoder\n",
    "from sklearn.model_selection import train_test_split\n",
    "from sklearn.linear_model import LogisticRegression\n",
    "from sklearn.metrics import accuracy_score\n",
    "import sklearn.linear_model as lm2\n",
    "from sklearn import config_context\n",
    "from sklearn.metrics import mean_squared_error, r2_score"
   ]
  },
  {
   "cell_type": "code",
   "execution_count": 4,
   "metadata": {},
   "outputs": [],
   "source": [
    "df = pd.read_csv('tree_recommender.csv')"
   ]
  },
  {
   "cell_type": "code",
   "execution_count": 5,
   "metadata": {},
   "outputs": [
    {
     "name": "stdout",
     "output_type": "stream",
     "text": [
      "0.5566158294677734\n",
      "Stored 'time_nodaal' (float)\n"
     ]
    }
   ],
   "source": [
    "\n",
    "# ML - training and inference\n",
    "import time\n",
    "from sklearn.preprocessing import LabelEncoder\n",
    "\n",
    "time_start = time.time()\n",
    "clf = lm2.Ridge()\n",
    "\n",
    "mse_values, cod_values = [], []\n",
    "N_RUNS = 50\n",
    "TRAIN_SIZE = 0.9\n",
    "random_state = 777\n",
    "\n",
    "# Extract the input and target columns\n",
    "X = df[['soil', 'temperature']]\n",
    "y = df['trees']\n",
    "\n",
    "# Perform one-hot encoding on the \"soil\" column\n",
    "onehot_encoder = OneHotEncoder()\n",
    "ct = ColumnTransformer([(\"soil\", onehot_encoder, [0])])\n",
    "X = ct.fit_transform(X)\n",
    "\n",
    "for i in range(N_RUNS):\n",
    "    X_train, X_test, y_train, y_test = train_test_split(X, y, train_size=TRAIN_SIZE,\n",
    "                                                        random_state=random_state)    \n",
    "    random_state += 777\n",
    "    \n",
    "    model = LogisticRegression()\n",
    "    \n",
    "    with config_context(assume_finite=True):\n",
    "        model.fit(X_train, y_train)\n",
    "\n",
    "    # Make predictions on the test set\n",
    "    y_pred = model.predict(X_test)\n",
    "    \n",
    "    le = LabelEncoder()\n",
    "    y_enc = le.fit_transform(y_test)\n",
    "    y_p = le.fit_transform(y_pred)\n",
    "    \n",
    "    mse_values.append(mean_squared_error(y_enc, y_p))\n",
    "    cod_values.append(r2_score(y_enc, y_p))\n",
    "time_nodaal = time.time()-time_start\n",
    "time_start = time.time()        \n",
    "print(time_nodaal)   \n",
    "%store time_nodaal\n"
   ]
  },
  {
   "cell_type": "code",
   "execution_count": 19,
   "metadata": {},
   "outputs": [],
   "source": []
  },
  {
   "cell_type": "code",
   "execution_count": null,
   "metadata": {},
   "outputs": [],
   "source": []
  }
 ],
 "metadata": {
  "colab": {
   "provenance": []
  },
  "kernelspec": {
   "display_name": "intel-tensorflow",
   "language": "python",
   "name": "intel-tensorflow"
  },
  "language_info": {
   "codemirror_mode": {
    "name": "ipython",
    "version": 3
   },
   "file_extension": ".py",
   "mimetype": "text/x-python",
   "name": "python",
   "nbconvert_exporter": "python",
   "pygments_lexer": "ipython3",
   "version": "3.9.15"
  }
 },
 "nbformat": 4,
 "nbformat_minor": 4
}
