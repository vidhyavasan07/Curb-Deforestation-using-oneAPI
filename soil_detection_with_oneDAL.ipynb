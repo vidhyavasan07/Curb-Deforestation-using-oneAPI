{
 "cells": [
  {
   "cell_type": "code",
   "execution_count": 1,
   "metadata": {
    "id": "-R4KOCrdluue"
   },
   "outputs": [
    {
     "name": "stderr",
     "output_type": "stream",
     "text": [
      "Intel(R) Extension for Scikit-learn* enabled (https://github.com/intel/scikit-learn-intelex)\n"
     ]
    }
   ],
   "source": [
    "from sklearnex import patch_sklearn\n",
    "patch_sklearn()"
   ]
  },
  {
   "cell_type": "code",
   "execution_count": 1,
   "metadata": {
    "colab": {
     "base_uri": "https://localhost:8080/"
    },
    "id": "2em0dliZlmfW",
    "outputId": "cc03000b-40a7-4af6-e6d6-085dbde0d433"
   },
   "outputs": [
    {
     "name": "stderr",
     "output_type": "stream",
     "text": [
      "dispatcher.py:151: FutureWarning: \n",
      "Scikit-learn patching with daal4py is deprecated and will be removed in the future.\n",
      "Use Intel(R) Extension for Scikit-learn* module instead (pip install scikit-learn-intelex).\n",
      "To enable patching, please use one of the following options:\n",
      "1) From the command line:\n",
      "    python -m sklearnex <your_script>\n",
      "2) From your script:\n",
      "    from sklearnex import patch_sklearn\n",
      "    patch_sklearn()\n",
      "Intel(R) oneAPI Data Analytics Library solvers for sklearn enabled: https://intelpython.github.io/daal4py/sklearn.html\n"
     ]
    },
    {
     "name": "stdout",
     "output_type": "stream",
     "text": [
      "R-squared score for numeric output:  -0.2491739371496089\n",
      "Accuracy score for string output:  0.3333333333333333\n",
      "0.5483694076538086\n"
     ]
    }
   ],
   "source": [
    "import pandas as pd\n",
    "import daal4py.sklearn\n",
    "daal4py.sklearn.patch_sklearn()\n",
    "from sklearn.tree import DecisionTreeRegressor, DecisionTreeClassifier\n",
    "from sklearn.model_selection import train_test_split\n",
    "\n",
    "import time\n",
    "time_start = time.time()\n",
    "#clf = lm.Ridge()\n",
    "\n",
    "# Load data from CSV file\n",
    "df = pd.read_csv('Book1.csv')\n",
    "df = pd.read_csv('Book1.csv', encoding= 'unicode_escape')\n",
    "\n",
    "df['latitude'] = df['latitude'].apply(lambda x: x.replace(\"'\", '').strip()[:-1])\n",
    "df['latitude'] = df['latitude'].apply(lambda x: x.replace('\"', '').strip()[:-1])\n",
    "df['latitude'] = df['latitude'].astype(float)\n",
    "\n",
    "df['longitude'] = df['longitude'].apply(lambda x: x.replace(\"'\", '').strip()[:-1])\n",
    "df['longitude'] = df['longitude'].apply(lambda x: x.replace('\"', '').strip()[:-1])\n",
    "df['longitude'] = df['longitude'].astype(float)\n",
    "\n",
    "# Split data into input features and output targets\n",
    "X = df[['latitude', 'longitude']]\n",
    "y_str = df['soil']\n",
    "y_num = df['temperature']\n",
    "\n",
    "# Save the updated DataFrame back to a CSV file\n",
    "df.to_csv('updated_filename.csv', index=False)\n",
    "\n",
    "# Split data into training and testing sets\n",
    "X_train, X_test, y_soil_train, y_soil_test, y_num_train, y_num_test = train_test_split(X, y_str, y_num, test_size=0.2, random_state=42)\n",
    "\n",
    "# Train decision tree regressor to predict continuous value\n",
    "regressor = DecisionTreeRegressor(random_state=42)\n",
    "regressor.fit(X_train, y_num_train)\n",
    "\n",
    "# Train decision tree classifier to predict string value\n",
    "classifier = DecisionTreeClassifier(random_state=42)\n",
    "classifier.fit(X_train, y_soil_train)\n",
    "# Evaluate performance on test data\n",
    "num_predictions = regressor.predict(X_test)\n",
    "str_predictions = classifier.predict(X_test)\n",
    "\n",
    "\n",
    "# Print performance metrics for continuous value prediction\n",
    "num_score = regressor.score(X_test, y_num_test)\n",
    "print('R-squared score for numeric output: ', num_score)\n",
    "\n",
    "# Print performance metrics for string value prediction\n",
    "str_score = classifier.score(X_test, y_soil_test)\n",
    "print('Accuracy score for string output: ', str_score)\n",
    "\n",
    "# Predict numeric output using decision tree regressor\n",
    "num_prediction = regressor.predict(X_test)\n",
    "\n",
    "\n",
    "# Predict string output using decision tree classifier\n",
    "str_prediction = classifier.predict(X_test)\n",
    "\n",
    "\n",
    "\n",
    "time_daal = time.time()-time_start\n",
    "time_start = time.time()        \n",
    "print(time_daal)  \n",
    "\n"
   ]
  },
  {
   "cell_type": "code",
   "execution_count": 6,
   "metadata": {},
   "outputs": [
    {
     "name": "stdout",
     "output_type": "stream",
     "text": [
      "no stored variable or alias time_nodaal\n"
     ]
    }
   ],
   "source": [
    "%store -r time_nodaal"
   ]
  },
  {
   "cell_type": "code",
   "execution_count": 3,
   "metadata": {},
   "outputs": [],
   "source": [
    "import matplotlib.pyplot as plt\n",
    "%matplotlib inline\n",
    "import numpy as np"
   ]
  },
  {
   "cell_type": "code",
   "execution_count": 8,
   "metadata": {},
   "outputs": [
    {
     "data": {
      "image/png": "[encoded data removed]",
      "text/plain": [
       "<Figure size 640x480 with 1 Axes>"
      ]
     },
     "metadata": {},
     "output_type": "display_data"
    },
    {
     "name": "stdout",
     "output_type": "stream",
     "text": [
      "speedup: 4.2677498058285215\n"
     ]
    }
   ],
   "source": [
    "left = [1,2]\n",
    "pred_times = [time_nodaal,time_daal ]\n",
    "tick_label = ['scikit-learn', 'Intel oneDAL']\n",
    "plt.bar(left, pred_times, tick_label = tick_label, width = 0.5, color = ['red', 'blue'])\n",
    "plt.xlabel('Ridge Regression training time comparison'); plt.ylabel('time,s'); plt.title('Training time,s')\n",
    "plt.show()\n",
    "print(\"speedup:\",time_nodaal/time_daal)"
   ]
  },
  {
   "cell_type": "code",
   "execution_count": null,
   "metadata": {},
   "outputs": [],
   "source": []
  }
 ],
 "metadata": {
  "colab": {
   "provenance": []
  },
  "kernelspec": {
   "display_name": "intel-tensorflow",
   "language": "python",
   "name": "intel-tensorflow"
  },
  "language_info": {
   "codemirror_mode": {
    "name": "ipython",
    "version": 3
   },
   "file_extension": ".py",
   "mimetype": "text/x-python",
   "name": "python",
   "nbconvert_exporter": "python",
   "pygments_lexer": "ipython3",
   "version": "3.9.15"
  }
 },
 "nbformat": 4,
 "nbformat_minor": 4
}
