{
 "cells": [
  {
   "cell_type": "code",
   "execution_count": 1,
   "id": "83c54ae6-d80a-4cdb-bbd9-3b644b6e54a5",
   "metadata": {},
   "outputs": [],
   "source": [
    "import os\n",
    "import numpy as np\n",
    "import pandas as pd\n",
    "\n",
    "from sklearn import config_context\n",
    "from sklearn.metrics import mean_squared_error, r2_score\n",
    "from sklearn.compose import ColumnTransformer\n",
    "from sklearn.preprocessing import OneHotEncoder\n",
    "from sklearn.linear_model import LogisticRegression"
   ]
  },
  {
   "cell_type": "code",
   "execution_count": 2,
   "id": "f556c377-9c8e-45fd-808a-61c79667c250",
   "metadata": {},
   "outputs": [],
   "source": [
    "from sklearn.model_selection import train_test_split"
   ]
  },
  {
   "cell_type": "code",
   "execution_count": 3,
   "id": "982e020f-252b-45ca-b05b-369e14f00afc",
   "metadata": {},
   "outputs": [
    {
     "name": "stderr",
     "output_type": "stream",
     "text": [
      "dispatcher.py:151: FutureWarning: \n",
      "Scikit-learn patching with daal4py is deprecated and will be removed in the future.\n",
      "Use Intel(R) Extension for Scikit-learn* module instead (pip install scikit-learn-intelex).\n",
      "To enable patching, please use one of the following options:\n",
      "1) From the command line:\n",
      "    python -m sklearnex <your_script>\n",
      "2) From your script:\n",
      "    from sklearnex import patch_sklearn\n",
      "    patch_sklearn()\n",
      "Intel(R) oneAPI Data Analytics Library solvers for sklearn enabled: https://intelpython.github.io/daal4py/sklearn.html\n"
     ]
    }
   ],
   "source": [
    "import daal4py.sklearn\n",
    "daal4py.sklearn.patch_sklearn()\n",
    "\n",
    "from sklearn.model_selection import train_test_split\n",
    "import sklearn.linear_model as lm2"
   ]
  },
  {
   "cell_type": "code",
   "execution_count": 10,
   "id": "f83a1d93-1d6b-4060-8ae4-d948b9685864",
   "metadata": {},
   "outputs": [],
   "source": [
    "df = pd.read_csv('tree_recommender.csv')"
   ]
  },
  {
   "cell_type": "code",
   "execution_count": 11,
   "id": "f5cd8f58-d949-466b-b182-ba559a07a2ba",
   "metadata": {},
   "outputs": [
    {
     "name": "stdout",
     "output_type": "stream",
     "text": [
      "0.12980937957763672\n"
     ]
    }
   ],
   "source": [
    "# ML - training and inference\n",
    "import time\n",
    "from sklearn.preprocessing import LabelEncoder\n",
    "\n",
    "time_start = time.time()\n",
    "clf = lm2.Ridge()\n",
    "\n",
    "mse_values, cod_values = [], []\n",
    "N_RUNS = 50\n",
    "TRAIN_SIZE = 0.9\n",
    "random_state = 777\n",
    "\n",
    "# Extract the input and target columns\n",
    "X = df[['soil', 'temperature']]\n",
    "y = df['trees']\n",
    "\n",
    "# Perform one-hot encoding on the \"soil\" column\n",
    "onehot_encoder = OneHotEncoder()\n",
    "ct = ColumnTransformer([(\"soil\", onehot_encoder, [0])])\n",
    "X = ct.fit_transform(X)\n",
    "\n",
    "le = LabelEncoder()\n",
    "y = le.fit_transform(y)\n",
    "\n",
    "for i in range(N_RUNS):\n",
    "    X_train, X_test, y_train, y_test = train_test_split(X, y, train_size=TRAIN_SIZE,\n",
    "                                                        random_state=random_state)    \n",
    "    random_state += 777\n",
    "    \n",
    "    #model = LogisticRegression()\n",
    "    \n",
    "    with config_context(assume_finite=True):\n",
    "        model=clf.fit(X_train, y_train)\n",
    "\n",
    "    # Make predictions on the test set\n",
    "    y_pred = model.predict(X_test)\n",
    "    \n",
    "    le = LabelEncoder()\n",
    "    y_enc = le.fit_transform(y_test)\n",
    "    y_p = le.fit_transform(y_pred)\n",
    "    \n",
    "    mse_values.append(mean_squared_error(y_enc, y_p))\n",
    "    cod_values.append(r2_score(y_enc, y_p))\n",
    "time_daal = time.time()-time_start\n",
    "time_start = time.time()        \n",
    "print(time_daal)   \n",
    "\n"
   ]
  },
  {
   "cell_type": "code",
   "execution_count": 12,
   "id": "c7c640ce-398e-45ad-bc0d-9a351bf160f7",
   "metadata": {},
   "outputs": [
    {
     "name": "stdout",
     "output_type": "stream",
     "text": [
      "mean MSE ± deviation: 22.365000000 ± 6.454047623\n",
      "mean COD ± deviation: -1.550247039 ± 0.448288415\n"
     ]
    }
   ],
   "source": [
    "mean_mse = sum(mse_values)/len(mse_values)\n",
    "mean_cod = sum(cod_values)/len(cod_values)\n",
    "mse_dev = pow(sum([(mse_value - mean_mse)**2 for mse_value in mse_values])/(len(mse_values) - 1), 0.5)\n",
    "cod_dev = pow(sum([(cod_value - mean_cod)**2 for cod_value in cod_values])/(len(cod_values) - 1), 0.5)\n",
    "print(\"mean MSE ± deviation: {:.9f} ± {:.9f}\".format(mean_mse, mse_dev))\n",
    "print(\"mean COD ± deviation: {:.9f} ± {:.9f}\".format(mean_cod, cod_dev))"
   ]
  },
  {
   "cell_type": "code",
   "execution_count": 13,
   "id": "9f52bf58-c25e-4429-a45f-656ca29e68d9",
   "metadata": {},
   "outputs": [],
   "source": [
    "%store -r time_nodaal"
   ]
  },
  {
   "cell_type": "code",
   "execution_count": 8,
   "id": "ce774c17-fdf1-4448-beef-573dacffdd46",
   "metadata": {},
   "outputs": [],
   "source": [
    "import matplotlib.pyplot as plt\n",
    "%matplotlib inline\n",
    "import numpy as np"
   ]
  },
  {
   "cell_type": "code",
   "execution_count": 9,
   "id": "2e081543-4973-4c2d-a730-79b890232b7d",
   "metadata": {},
   "outputs": [
    {
     "data": {
      "image/png": "[encoded data removed]",
      "text/plain": [
       "<Figure size 640x480 with 1 Axes>"
      ]
     },
     "metadata": {},
     "output_type": "display_data"
    },
    {
     "name": "stdout",
     "output_type": "stream",
     "text": [
      "speedup: 1.301009249714429\n"
     ]
    }
   ],
   "source": [
    "left = [1,2]\n",
    "pred_times = [time_nodaal,time_daal ]\n",
    "tick_label = ['scikit-learn', 'scikit-learn-daal4p']\n",
    "plt.bar(left, pred_times, tick_label = tick_label, width = 0.5, color = ['red', 'blue'])\n",
    "plt.xlabel('Ridge Regression training time comparison'); plt.ylabel('time,s'); plt.title('Training time,s')\n",
    "plt.show()\n",
    "print(\"speedup:\",time_nodaal/time_daal)"
   ]
  },
  {
   "cell_type": "code",
   "execution_count": null,
   "id": "5b3355cc-c13f-42bf-a01f-8db3d90a1c48",
   "metadata": {},
   "outputs": [],
   "source": []
  }
 ],
 "metadata": {
  "kernelspec": {
   "display_name": "intel-tensorflow",
   "language": "python",
   "name": "intel-tensorflow"
  },
  "language_info": {
   "codemirror_mode": {
    "name": "ipython",
    "version": 3
   },
   "file_extension": ".py",
   "mimetype": "text/x-python",
   "name": "python",
   "nbconvert_exporter": "python",
   "pygments_lexer": "ipython3",
   "version": "3.9.15"
  }
 },
 "nbformat": 4,
 "nbformat_minor": 5
}
