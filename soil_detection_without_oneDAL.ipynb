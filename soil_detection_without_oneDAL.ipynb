{
 "cells": [
  {
   "cell_type": "code",
   "execution_count": 1,
   "id": "e43fd659-4c91-49ec-8b60-f917166dc76e",
   "metadata": {},
   "outputs": [],
   "source": [
    "import os\n",
    "import numpy as np\n",
    "import pandas as pd\n",
    "\n",
    "from sklearn import config_context\n",
    "from sklearn.metrics import mean_squared_error, r2_score"
   ]
  },
  {
   "cell_type": "code",
   "execution_count": 2,
   "id": "341090ab-780f-4b35-86fd-b5134ed19394",
   "metadata": {},
   "outputs": [],
   "source": [
    "from sklearn.tree import DecisionTreeRegressor, DecisionTreeClassifier\n",
    "from sklearn.model_selection import train_test_split"
   ]
  },
  {
   "cell_type": "code",
   "execution_count": 3,
   "id": "1addadce-3f33-4988-bf44-c8631d498db8",
   "metadata": {},
   "outputs": [],
   "source": [
    "\n",
    "from sklearn.model_selection import train_test_split\n",
    "import sklearn.linear_model as lm\n",
    "from sklearn import config_context"
   ]
  },
  {
   "cell_type": "code",
   "execution_count": 4,
   "id": "e01a0516-bab8-4924-a3e1-207207f8615f",
   "metadata": {},
   "outputs": [],
   "source": [
    "df = pd.read_csv('Book1.csv',encoding= 'unicode_escape')"
   ]
  },
  {
   "cell_type": "code",
   "execution_count": 5,
   "id": "0d004fe7-8ba2-40a9-9e42-c16cd9079118",
   "metadata": {},
   "outputs": [],
   "source": [
    "df['latitude'] = df['latitude'].apply(lambda x: x.replace(\"'\", '').strip()[:-1])\n",
    "df['latitude'] = df['latitude'].apply(lambda x: x.replace('\"', '').strip()[:-1])\n",
    "df['latitude'] = df['latitude'].astype(float)\n",
    "\n",
    "df['longitude'] = df['longitude'].apply(lambda x: x.replace(\"'\", '').strip()[:-1])\n",
    "df['longitude'] = df['longitude'].apply(lambda x: x.replace('\"', '').strip()[:-1])\n",
    "df['longitude'] = df['longitude'].astype(float)"
   ]
  },
  {
   "cell_type": "code",
   "execution_count": 6,
   "id": "5041a0b6-0420-41fd-a5a7-e62f3aeedfb7",
   "metadata": {},
   "outputs": [
    {
     "name": "stdout",
     "output_type": "stream",
     "text": [
      "0.2163074016571045\n"
     ]
    }
   ],
   "source": [
    "# ML - training and inference\n",
    "import time\n",
    "from sklearn.preprocessing import LabelEncoder\n",
    "time_start = time.time()\n",
    "clf = lm.Ridge()\n",
    "\n",
    "mse_values, cod_values = [], []\n",
    "N_RUNS = 50\n",
    "TRAIN_SIZE = 0.9\n",
    "random_state = 777\n",
    "\n",
    "le = LabelEncoder()\n",
    "\n",
    "# Split data into input features and output targets\n",
    "X = df[['latitude', 'longitude']]\n",
    "y_str = df['soil']\n",
    "y_num = df['temperature']\n",
    "# cross validation\n",
    "for i in range(N_RUNS):\n",
    "    X_train, X_test, y_soil_train, y_soil_test, y_num_train, y_num_test = train_test_split(X, y_str, y_num, train_size=TRAIN_SIZE, random_state=random_state)\n",
    "\n",
    "    #X_train, X_test, y_train, y_test = train_test_split(X, y_str,y_num, train_size=TRAIN_SIZE,\n",
    "                                                       # random_state=random_state)\n",
    "    #X_train, X_test, y_str_train, y_str_test = train_test_split(X, y_str, train_size=TRAIN_SIZE, random_state=random_state)\n",
    "    #X_train, X_test, y_num_train, y_num_test = train_test_split(X, y_num, train_size=TRAIN_SIZE, random_state=random_state)\n",
    "\n",
    "    random_state += 777\n",
    "\n",
    "    # training\n",
    "    with config_context(assume_finite=True):\n",
    "        regressor = DecisionTreeRegressor(random_state=777)\n",
    "        regressor.fit(X_train, y_num_train)\n",
    "    with config_context(assume_finite=True):\n",
    "        classifier = DecisionTreeClassifier(random_state=42)\n",
    "        classifier.fit(X_train, y_soil_train)\n",
    "        \n",
    "\n",
    "    y_soil_test_encoded = le.fit_transform(y_soil_test)    \n",
    "    # inference\n",
    "    #y_pred = model.predict(X_test)\n",
    "    num_prediction = regressor.predict(X_test)\n",
    "    str_prediction = classifier.predict(X_test)\n",
    "    #str_prediction = le.inverse_transform(num_prediction.astype(int))\n",
    "\n",
    "    #mse_values.append(mean_squared_error(y_num_test, num_prediction))\n",
    "    #mse_values.append(mean_squared_error(y_soil_test_encoded, str_prediction))\n",
    "    #cod_values.append(r2_score(y_num_test, num_prediction))\n",
    "    #cod_values.append(r2_score(y_soil_test_encoded, str_prediction))\n",
    "time_nodaal = time.time()-time_start\n",
    "time_start = time.time()        \n",
    "print(time_nodaal)      "
   ]
  },
  {
   "cell_type": "code",
   "execution_count": null,
   "id": "d7a635d7-c4fa-4361-a4ca-8fffe40b9c91",
   "metadata": {},
   "outputs": [],
   "source": []
  },
  {
   "cell_type": "code",
   "execution_count": null,
   "id": "1f8df2eb-5584-48a7-b4ca-32bf93e10c00",
   "metadata": {},
   "outputs": [],
   "source": []
  }
 ],
 "metadata": {
  "kernelspec": {
   "display_name": "intel-tensorflow",
   "language": "python",
   "name": "intel-tensorflow"
  },
  "language_info": {
   "codemirror_mode": {
    "name": "ipython",
    "version": 3
   },
   "file_extension": ".py",
   "mimetype": "text/x-python",
   "name": "python",
   "nbconvert_exporter": "python",
   "pygments_lexer": "ipython3",
   "version": "3.9.15"
  }
 },
 "nbformat": 4,
 "nbformat_minor": 5
}
